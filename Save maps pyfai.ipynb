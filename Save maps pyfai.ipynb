{
 "cells": [
  {
   "cell_type": "code",
   "execution_count": 3,
   "id": "d79fc1d2",
   "metadata": {},
   "outputs": [],
   "source": [
    "import os\n",
    "from glob import glob\n",
    "import fabio\n",
    "import pyFAI.geometry\n",
    "import numpy as np\n",
    "def updatelist(ext):\t\t\t# search for tif files in the main directory\n",
    "    filelist=glob(ext)\n",
    "    filelist.sort(key=lambda x: os.path.getctime(x), reverse=False) #sort files by creation time in ascending order\n",
    "    return filelist"
   ]
  },
  {
   "cell_type": "code",
   "execution_count": 5,
   "id": "99ca8cf4",
   "metadata": {},
   "outputs": [],
   "source": [
    "if __name__ == \"__main__\":\n",
    "    os.chdir(r'C:\\Users\\kenneth1a\\Documents\\beamlineData\\Feb2023_gainMap\\Si/xrd/') #input working directory\n",
    "    \n",
    "    cwd = os.getcwd()\t\t\t\t# get the current path\n",
    "\n",
    "    PathWrap = lambda fil: os.path.join(cwd,fil)\n",
    "    \n",
    "    polarisation = 0.99\n",
    "    \n",
    "    newdir = 'maps'\t\t\t\t\t# make a subfolder to store integrated images\n",
    "    path = os.path.join(cwd,newdir)\n",
    "    if not os.path.exists(path):\t\t\t\n",
    "        os.mkdir(path)\n",
    "    pathmaps = path\n",
    "    cbfs = updatelist('*.cbf')\n",
    "    ponifiles = updatelist('*.poni')\n",
    "    if cbfs:\n",
    "        cbf = fabio.open(cbfs[0]).data\n",
    "        shape = cbf.shape\n",
    "        \n",
    "    geometry = pyFAI.geometry.Geometry(detector = 'pilatus2mcdte') #input detector geometry, or put in shape if unavailable\n",
    "    #geometry = pyFAI.geometry.Geometry(detector = shape)\n",
    "    if not ponifiles:\n",
    "        raise runTimeError(\"need at least one poni in the folder!\")\n",
    "    else:\n",
    "        for file in ponifiles:\n",
    "            geometry.load(file)\n",
    "            twothetaMap = geometry.twoThetaArray()*180/np.pi\n",
    "            polmap = geometry.polarization(factor = polarisation) \n",
    "            ttm_image = fabio.edfimage.EdfImage(twothetaMap)\n",
    "            name = file.replace('.poni','')\n",
    "            tthfname = f'{path}/{name}_2thmap.edf'\n",
    "            ttm_image.save(tthfname)\n",
    "            polimage = fabio.edfimage.EdfImage(polmap)\n",
    "            polfname = f'{path}/{name}_polmap.edf'\n",
    "            polimage.save(polfname)"
   ]
  },
  {
   "cell_type": "code",
   "execution_count": null,
   "id": "02659615",
   "metadata": {},
   "outputs": [],
   "source": []
  }
 ],
 "metadata": {
  "kernelspec": {
   "display_name": "Python 3 (ipykernel)",
   "language": "python",
   "name": "python3"
  },
  "language_info": {
   "codemirror_mode": {
    "name": "ipython",
    "version": 3
   },
   "file_extension": ".py",
   "mimetype": "text/x-python",
   "name": "python",
   "nbconvert_exporter": "python",
   "pygments_lexer": "ipython3",
   "version": "3.9.13"
  }
 },
 "nbformat": 4,
 "nbformat_minor": 5
}
