{
 "cells": [
  {
   "cell_type": "code",
   "execution_count": null,
   "id": "921daca2",
   "metadata": {},
   "outputs": [],
   "source": [
    "import pyFAI\n",
    "import fabio\n",
    "import numpy as np\n",
    "import matplotlib.pyplot as plt\n",
    "from glob import glob\n",
    "import os, re\n",
    "from maskGeneratorBM31 import makeDataSet, makeMasks, integrateAverage, integrateIndividual\n"
   ]
  },
  {
   "cell_type": "code",
   "execution_count": null,
   "id": "7f9b631e",
   "metadata": {},
   "outputs": [],
   "source": [
    "%matplotlib inline\n",
    "\n",
    "direc = r'C:\\Users\\kenneth1a\\Documents\\beamlineData\\moduleDistortion\\LaB6\\xrd/' # Directory of xrd files\n",
    "os.chdir(direc)\n",
    "\n",
    "dest = direc.replace(r'X:\\staff\\july2023',r'C:\\Users\\kenneth1a\\Documents\\beamlineData\\July2023')\n",
    "\n",
    "if not os.path.exists(dest):\n",
    "    os.makedirs(dest)\n",
    "\n",
    "mask  = r'Z:\\bm31\\inhouse\\july2023/pdf_baseMask_tilt.edf' # Mask file\n",
    "mask = fabio.open(mask).data\n",
    "poni  = r'Z:\\bm31\\inhouse\\july2023/Si_15tilt_0p25579A.poni' # Poni file\n",
    "poni = pyFAI.load(poni)\n",
    "wavelength = poni.wavelength*10**10\n",
    "gainFile = r'C:\\Users\\kenneth1a\\Documents\\beamlineData\\July2023\\gainmap\\calculatedGainMap_48p6keV_filtered_kpm_2023-07-21.edf'\n",
    "\n",
    "\n",
    "badFramesLog = f'{dest}/badFrames.txt'\n",
    "if os.path.isfile(badFramesLog):\n",
    "    os.remove(badFramesLog)\n",
    "\n",
    "files = glob('*.cbf')\n",
    "files.sort()\n",
    "i1 = fabio.open(files[0]).data\n",
    "dataset = np.empty(shape = (*i1.shape,len(files)))\n",
    "\n",
    "doMonitor = True\n",
    "\n",
    "#monitorfile = glob('*.dat')[0]\n",
    "#monitor = np.loadtxt(monitorfile,usecols = 2, skiprows = 1)\n",
    "\n",
    "scale = 10**9\n",
    "dataset, usedFiles = makeDataSet(files, badFramesLog, scale, doMonitor)\n",
    "\n",
    "average = np.average(dataset,axis=2)\n",
    "median = np.median(dataset,axis=2)\n",
    "vmax = np.percentile(np.where(np.isnan(average),0,average),99.9)\n",
    "plt.figure()\n",
    "plt.imshow(average,vmax = vmax)\n",
    "plt.colorbar()\n",
    "plt.show()"
   ]
  },
  {
   "cell_type": "code",
   "execution_count": null,
   "id": "251cb21b",
   "metadata": {},
   "outputs": [],
   "source": [
    "plt.figure()\n",
    "stdev = np.std(dataset,axis = 2)\n",
    "vmax = np.percentile(np.where(np.isnan(stdev),0,stdev),99.9)\n",
    "plt.imshow(np.std(dataset,axis = 2),vmax = vmax)\n",
    "plt.colorbar()"
   ]
  },
  {
   "cell_type": "code",
   "execution_count": null,
   "id": "633552d5",
   "metadata": {
    "scrolled": false
   },
   "outputs": [],
   "source": [
    "%matplotlib nbagg\n",
    "\n",
    "nstdevs = 3\n",
    "maskdct = makeMasks(dataset,usedFiles,mask, nstdevs = nstdevs,plot = True)"
   ]
  },
  {
   "cell_type": "code",
   "execution_count": null,
   "id": "64d0e2c4",
   "metadata": {
    "scrolled": false
   },
   "outputs": [],
   "source": [
    "subdir = f'xye_{nstdevs}stdevs'\n",
    "\n",
    "\n",
    "integrateAverage(dataset, usedFiles, poni, gainFile, maskdct,dest)\n",
    "\n",
    "integrateIndividual(dataset = dataset,files = usedFiles, dest =  dest, subdir = subdir,poni= poni, maskdct=maskdct, \n",
    "                    gainFile = gainFile)\n"
   ]
  },
  {
   "cell_type": "code",
   "execution_count": null,
   "id": "68236049",
   "metadata": {},
   "outputs": [],
   "source": []
  },
  {
   "cell_type": "code",
   "execution_count": null,
   "id": "c514cb98",
   "metadata": {},
   "outputs": [],
   "source": []
  }
 ],
 "metadata": {
  "kernelspec": {
   "display_name": "Python 3 (ipykernel)",
   "language": "python",
   "name": "python3"
  },
  "language_info": {
   "codemirror_mode": {
    "name": "ipython",
    "version": 3
   },
   "file_extension": ".py",
   "mimetype": "text/x-python",
   "name": "python",
   "nbconvert_exporter": "python",
   "pygments_lexer": "ipython3",
   "version": "3.9.17"
  }
 },
 "nbformat": 4,
 "nbformat_minor": 5
}
